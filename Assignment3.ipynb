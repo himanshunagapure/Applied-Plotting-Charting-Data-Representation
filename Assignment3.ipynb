{
  "cells": [
    {
      "cell_type": "markdown",
      "metadata": {
        "id": "view-in-github",
        "colab_type": "text"
      },
      "source": [
        "<a href=\"https://colab.research.google.com/github/himanshunagapure/Applied-Plotting-Charting-Data-Representation/blob/main/Assignment3.ipynb\" target=\"_parent\"><img src=\"https://colab.research.google.com/assets/colab-badge.svg\" alt=\"Open In Colab\"/></a>"
      ]
    },
    {
      "cell_type": "markdown",
      "metadata": {
        "id": "v4_ly_GKgekY"
      },
      "source": [
        "# Assignment 3 - Building a Custom Visualization\n",
        "\n",
        "---\n",
        "\n",
        "In this assignment you must choose one of the options presented below and submit a visual as well as your source code for peer grading. The details of how you solve the assignment are up to you, although your assignment must use matplotlib so that your peers can evaluate your work. The options differ in challenge level, but there are no grades associated with the challenge level you chose. However, your peers will be asked to ensure you at least met a minimum quality for a given technique in order to pass. Implement the technique fully (or exceed it!) and you should be able to earn full grades for the assignment.\n",
        "\n",
        "\n",
        "&nbsp;&nbsp;&nbsp;&nbsp;&nbsp;&nbsp;Ferreira, N., Fisher, D., & Konig, A. C. (2014, April). [Sample-oriented task-driven visualizations: allowing users to make better, more confident decisions.](https://www.microsoft.com/en-us/research/wp-content/uploads/2016/02/Ferreira_Fisher_Sample_Oriented_Tasks.pdf) \n",
        "&nbsp;&nbsp;&nbsp;&nbsp;&nbsp;&nbsp;In Proceedings of the SIGCHI Conference on Human Factors in Computing Systems (pp. 571-580). ACM. ([video](https://www.youtube.com/watch?v=BI7GAs-va-Q))\n",
        "\n",
        "\n",
        "In this [paper](https://www.microsoft.com/en-us/research/wp-content/uploads/2016/02/Ferreira_Fisher_Sample_Oriented_Tasks.pdf) the authors describe the challenges users face when trying to make judgements about probabilistic data generated through samples. As an example, they look at a bar chart of four years of data (replicated below in Figure 1). Each year has a y-axis value, which is derived from a sample of a larger dataset. For instance, the first value might be the number votes in a given district or riding for 1992, with the average being around 33,000. On top of this is plotted the 95% confidence interval for the mean (see the boxplot lectures for more information, and the yerr parameter of barcharts).\n",
        "\n",
        "<br>\n",
        "<img src=\"readonly/Assignment3Fig1.png\" alt=\"Figure 1\" style=\"width: 400px;\"/>\n",
        "<h4 style=\"text-align: center;\" markdown=\"1\">  &nbsp;&nbsp;&nbsp;&nbsp;&nbsp;&nbsp;&nbsp;&nbsp;Figure 1 from (Ferreira et al, 2014).</h4>\n",
        "\n",
        "<br>\n",
        "\n",
        "A challenge that users face is that, for a given y-axis value (e.g. 42,000), it is difficult to know which x-axis values are most likely to be representative, because the confidence levels overlap and their distributions are different (the lengths of the confidence interval bars are unequal). One of the solutions the authors propose for this problem (Figure 2c) is to allow users to indicate the y-axis value of interest (e.g. 42,000) and then draw a horizontal line and color bars based on this value. So bars might be colored red if they are definitely above this value (given the confidence interval), blue if they are definitely below this value, or white if they contain this value.\n",
        "\n",
        "\n",
        "<br>\n",
        "<img src=\"readonly/Assignment3Fig2c.png\" alt=\"Figure 1\" style=\"width: 400px;\"/>\n",
        "<h4 style=\"text-align: center;\" markdown=\"1\">  Figure 2c from (Ferreira et al. 2014). Note that the colorbar legend at the bottom as well as the arrows are not required in the assignment descriptions below.</h4>\n",
        "\n",
        "<br>\n",
        "<br>\n",
        "\n",
        "**Easiest option:** Implement the bar coloring as described above - a color scale with only three colors, (e.g. blue, white, and red). Assume the user provides the y axis value of interest as a parameter or variable.\n",
        "\n",
        "\n",
        "**Harder option:** Implement the bar coloring as described in the paper, where the color of the bar is actually based on the amount of data covered (e.g. a gradient ranging from dark blue for the distribution being certainly below this y-axis, to white if the value is certainly contained, to dark red if the value is certainly not contained as the distribution is above the axis).\n",
        "\n",
        "**Even Harder option:** Add interactivity to the above, which allows the user to click on the y axis to set the value of interest. The bar colors should change with respect to what value the user has selected.\n",
        "\n",
        "**Hardest option:** Allow the user to interactively set a range of y values they are interested in, and recolor based on this (e.g. a y-axis band, see the paper for more details).\n",
        "\n",
        "---\n",
        "\n",
        "*Note: The data given for this assignment is not the same as the data used in the article and as a result the visualizations may look a little different.*"
      ]
    },
    {
      "cell_type": "code",
      "execution_count": null,
      "metadata": {
        "id": "DJvhtrwKgeke",
        "outputId": "0c54f4cd-714e-477b-9b60-8f54664274ae"
      },
      "outputs": [
        {
          "data": {
            "text/html": [
              "<div>\n",
              "<table border=\"1\" class=\"dataframe\">\n",
              "  <thead>\n",
              "    <tr style=\"text-align: right;\">\n",
              "      <th></th>\n",
              "      <th>0</th>\n",
              "      <th>1</th>\n",
              "      <th>2</th>\n",
              "      <th>3</th>\n",
              "      <th>4</th>\n",
              "      <th>5</th>\n",
              "      <th>6</th>\n",
              "      <th>7</th>\n",
              "      <th>8</th>\n",
              "      <th>9</th>\n",
              "      <th>...</th>\n",
              "      <th>3640</th>\n",
              "      <th>3641</th>\n",
              "      <th>3642</th>\n",
              "      <th>3643</th>\n",
              "      <th>3644</th>\n",
              "      <th>3645</th>\n",
              "      <th>3646</th>\n",
              "      <th>3647</th>\n",
              "      <th>3648</th>\n",
              "      <th>3649</th>\n",
              "    </tr>\n",
              "  </thead>\n",
              "  <tbody>\n",
              "    <tr>\n",
              "      <th>1992</th>\n",
              "      <td>-8941.531897</td>\n",
              "      <td>127788.667612</td>\n",
              "      <td>-71887.743011</td>\n",
              "      <td>-79146.060869</td>\n",
              "      <td>425156.114501</td>\n",
              "      <td>310681.166595</td>\n",
              "      <td>50581.575349</td>\n",
              "      <td>88349.230566</td>\n",
              "      <td>185804.513522</td>\n",
              "      <td>281286.947277</td>\n",
              "      <td>...</td>\n",
              "      <td>171938.760289</td>\n",
              "      <td>150650.759924</td>\n",
              "      <td>203663.976475</td>\n",
              "      <td>-377877.158072</td>\n",
              "      <td>-197214.093861</td>\n",
              "      <td>24185.008589</td>\n",
              "      <td>-56826.729535</td>\n",
              "      <td>-67319.766489</td>\n",
              "      <td>113377.299342</td>\n",
              "      <td>-4494.878538</td>\n",
              "    </tr>\n",
              "    <tr>\n",
              "      <th>1993</th>\n",
              "      <td>-51896.094813</td>\n",
              "      <td>198350.518755</td>\n",
              "      <td>-123518.252821</td>\n",
              "      <td>-129916.759685</td>\n",
              "      <td>216119.147314</td>\n",
              "      <td>49845.883728</td>\n",
              "      <td>149135.648505</td>\n",
              "      <td>62807.672113</td>\n",
              "      <td>23365.577348</td>\n",
              "      <td>-109686.264981</td>\n",
              "      <td>...</td>\n",
              "      <td>-44566.520071</td>\n",
              "      <td>101032.122475</td>\n",
              "      <td>117648.199945</td>\n",
              "      <td>160475.622607</td>\n",
              "      <td>-13759.888342</td>\n",
              "      <td>-37333.493572</td>\n",
              "      <td>103019.841174</td>\n",
              "      <td>179746.127403</td>\n",
              "      <td>13455.493990</td>\n",
              "      <td>34442.898855</td>\n",
              "    </tr>\n",
              "    <tr>\n",
              "      <th>1994</th>\n",
              "      <td>152336.932066</td>\n",
              "      <td>192947.128056</td>\n",
              "      <td>389950.263156</td>\n",
              "      <td>-93006.152024</td>\n",
              "      <td>100818.575896</td>\n",
              "      <td>5529.230706</td>\n",
              "      <td>-32989.370488</td>\n",
              "      <td>223942.967178</td>\n",
              "      <td>-66721.580898</td>\n",
              "      <td>47826.269111</td>\n",
              "      <td>...</td>\n",
              "      <td>165085.806360</td>\n",
              "      <td>74735.174090</td>\n",
              "      <td>107329.726875</td>\n",
              "      <td>199250.734156</td>\n",
              "      <td>-36792.202754</td>\n",
              "      <td>-71861.846997</td>\n",
              "      <td>26375.113219</td>\n",
              "      <td>-29328.078384</td>\n",
              "      <td>65858.761714</td>\n",
              "      <td>-91542.001049</td>\n",
              "    </tr>\n",
              "    <tr>\n",
              "      <th>1995</th>\n",
              "      <td>-69708.439062</td>\n",
              "      <td>-13289.977022</td>\n",
              "      <td>-30178.390991</td>\n",
              "      <td>55052.181256</td>\n",
              "      <td>152883.621657</td>\n",
              "      <td>12930.835194</td>\n",
              "      <td>63700.461932</td>\n",
              "      <td>64148.489835</td>\n",
              "      <td>-29316.268556</td>\n",
              "      <td>59645.677367</td>\n",
              "      <td>...</td>\n",
              "      <td>-13901.388118</td>\n",
              "      <td>50173.686673</td>\n",
              "      <td>53965.990717</td>\n",
              "      <td>4128.990173</td>\n",
              "      <td>72202.595138</td>\n",
              "      <td>39937.199964</td>\n",
              "      <td>139472.114293</td>\n",
              "      <td>59386.186379</td>\n",
              "      <td>73362.229590</td>\n",
              "      <td>28705.082908</td>\n",
              "    </tr>\n",
              "  </tbody>\n",
              "</table>\n",
              "<p>4 rows × 3650 columns</p>\n",
              "</div>"
            ],
            "text/plain": [
              "               0              1              2              3     \\\n",
              "1992   -8941.531897  127788.667612  -71887.743011  -79146.060869   \n",
              "1993  -51896.094813  198350.518755 -123518.252821 -129916.759685   \n",
              "1994  152336.932066  192947.128056  389950.263156  -93006.152024   \n",
              "1995  -69708.439062  -13289.977022  -30178.390991   55052.181256   \n",
              "\n",
              "               4              5              6              7     \\\n",
              "1992  425156.114501  310681.166595   50581.575349   88349.230566   \n",
              "1993  216119.147314   49845.883728  149135.648505   62807.672113   \n",
              "1994  100818.575896    5529.230706  -32989.370488  223942.967178   \n",
              "1995  152883.621657   12930.835194   63700.461932   64148.489835   \n",
              "\n",
              "               8              9         ...                3640  \\\n",
              "1992  185804.513522  281286.947277      ...       171938.760289   \n",
              "1993   23365.577348 -109686.264981      ...       -44566.520071   \n",
              "1994  -66721.580898   47826.269111      ...       165085.806360   \n",
              "1995  -29316.268556   59645.677367      ...       -13901.388118   \n",
              "\n",
              "               3641           3642           3643           3644  \\\n",
              "1992  150650.759924  203663.976475 -377877.158072 -197214.093861   \n",
              "1993  101032.122475  117648.199945  160475.622607  -13759.888342   \n",
              "1994   74735.174090  107329.726875  199250.734156  -36792.202754   \n",
              "1995   50173.686673   53965.990717    4128.990173   72202.595138   \n",
              "\n",
              "              3645           3646           3647           3648          3649  \n",
              "1992  24185.008589  -56826.729535  -67319.766489  113377.299342  -4494.878538  \n",
              "1993 -37333.493572  103019.841174  179746.127403   13455.493990  34442.898855  \n",
              "1994 -71861.846997   26375.113219  -29328.078384   65858.761714 -91542.001049  \n",
              "1995  39937.199964  139472.114293   59386.186379   73362.229590  28705.082908  \n",
              "\n",
              "[4 rows x 3650 columns]"
            ]
          },
          "execution_count": 11,
          "metadata": {},
          "output_type": "execute_result"
        }
      ],
      "source": [
        "# Use the following data for this assignment:\n",
        "\n",
        "import pandas as pd\n",
        "import numpy as np\n",
        "\n",
        "np.random.seed(12345)\n",
        "\n",
        "df = pd.DataFrame([np.random.normal(32000,200000,3650), \n",
        "                   np.random.normal(43000,100000,3650), \n",
        "                   np.random.normal(43500,140000,3650), \n",
        "                   np.random.normal(48000,70000,3650)], \n",
        "                  index=[1992,1993,1994,1995])\n",
        "df"
      ]
    },
    {
      "cell_type": "code",
      "execution_count": null,
      "metadata": {
        "id": "Z5krYfefgekg",
        "outputId": "52b900ff-9fa1-463c-d65c-6c8f6dbc83c2"
      },
      "outputs": [
        {
          "data": {
            "text/html": [
              "<div>\n",
              "<table border=\"1\" class=\"dataframe\">\n",
              "  <thead>\n",
              "    <tr style=\"text-align: right;\">\n",
              "      <th></th>\n",
              "      <th>1992</th>\n",
              "      <th>1993</th>\n",
              "      <th>1994</th>\n",
              "      <th>1995</th>\n",
              "    </tr>\n",
              "  </thead>\n",
              "  <tbody>\n",
              "    <tr>\n",
              "      <th>count</th>\n",
              "      <td>3650.000000</td>\n",
              "      <td>3650.000000</td>\n",
              "      <td>3650.000000</td>\n",
              "      <td>3650.000000</td>\n",
              "    </tr>\n",
              "    <tr>\n",
              "      <th>mean</th>\n",
              "      <td>33312.107476</td>\n",
              "      <td>41861.859541</td>\n",
              "      <td>39493.304941</td>\n",
              "      <td>47743.550969</td>\n",
              "    </tr>\n",
              "    <tr>\n",
              "      <th>std</th>\n",
              "      <td>200630.901553</td>\n",
              "      <td>98398.356203</td>\n",
              "      <td>140369.925240</td>\n",
              "      <td>69781.185469</td>\n",
              "    </tr>\n",
              "    <tr>\n",
              "      <th>min</th>\n",
              "      <td>-717071.175466</td>\n",
              "      <td>-321586.023683</td>\n",
              "      <td>-450827.613097</td>\n",
              "      <td>-189865.963265</td>\n",
              "    </tr>\n",
              "    <tr>\n",
              "      <th>25%</th>\n",
              "      <td>-102740.398364</td>\n",
              "      <td>-26628.302213</td>\n",
              "      <td>-57436.397393</td>\n",
              "      <td>1774.555612</td>\n",
              "    </tr>\n",
              "    <tr>\n",
              "      <th>50%</th>\n",
              "      <td>29674.931050</td>\n",
              "      <td>43001.976658</td>\n",
              "      <td>41396.781369</td>\n",
              "      <td>49404.322978</td>\n",
              "    </tr>\n",
              "    <tr>\n",
              "      <th>75%</th>\n",
              "      <td>167441.838695</td>\n",
              "      <td>108296.577923</td>\n",
              "      <td>137261.713785</td>\n",
              "      <td>94164.333867</td>\n",
              "    </tr>\n",
              "    <tr>\n",
              "      <th>max</th>\n",
              "      <td>817505.608159</td>\n",
              "      <td>395586.505068</td>\n",
              "      <td>490091.665037</td>\n",
              "      <td>320826.888044</td>\n",
              "    </tr>\n",
              "  </tbody>\n",
              "</table>\n",
              "</div>"
            ],
            "text/plain": [
              "                1992           1993           1994           1995\n",
              "count    3650.000000    3650.000000    3650.000000    3650.000000\n",
              "mean    33312.107476   41861.859541   39493.304941   47743.550969\n",
              "std    200630.901553   98398.356203  140369.925240   69781.185469\n",
              "min   -717071.175466 -321586.023683 -450827.613097 -189865.963265\n",
              "25%   -102740.398364  -26628.302213  -57436.397393    1774.555612\n",
              "50%     29674.931050   43001.976658   41396.781369   49404.322978\n",
              "75%    167441.838695  108296.577923  137261.713785   94164.333867\n",
              "max    817505.608159  395586.505068  490091.665037  320826.888044"
            ]
          },
          "execution_count": 12,
          "metadata": {},
          "output_type": "execute_result"
        }
      ],
      "source": [
        "df = df.transpose()\n",
        "df.describe()"
      ]
    },
    {
      "cell_type": "code",
      "execution_count": null,
      "metadata": {
        "id": "K8xQYg8kgekh"
      },
      "outputs": [],
      "source": []
    },
    {
      "cell_type": "code",
      "execution_count": null,
      "metadata": {
        "id": "chKHg9mKgekh"
      },
      "outputs": [],
      "source": [
        "# calculating 95% CI for each year (z=1.96)\n",
        "\n",
        "import math\n",
        "\n",
        "mean = list(df.mean())\n",
        "std = list(df.std())\n",
        "\n",
        "yerr = []\n",
        "\n",
        "for i in range (4) :\n",
        "    yerr.append(1.96*(std[i]/math.sqrt(len(df))))\n",
        "    "
      ]
    },
    {
      "cell_type": "code",
      "execution_count": null,
      "metadata": {
        "collapsed": true,
        "id": "XWocth_Ggeki"
      },
      "outputs": [],
      "source": [
        "#Now to plot the data and add labels.\n",
        "import matplotlib.pyplot as plt\n",
        "\n",
        "generic = [0,1,2,3]\n",
        "x = ['1992', '1993', '1994', '1995']\n",
        "\n",
        "# We had to pick a value to showcase the full range of colors in our colormap.\n",
        "y=40000"
      ]
    },
    {
      "cell_type": "markdown",
      "metadata": {
        "id": "jU4y8eKMgeki"
      },
      "source": [
        "Easy Way"
      ]
    },
    {
      "cell_type": "code",
      "execution_count": null,
      "metadata": {
        "id": "PER86uiSgekj",
        "outputId": "1c32da65-d6ac-4448-97f5-7dd86615f944"
      },
      "outputs": [
        {
          "data": {
            "image/png": "[encoded data removed]",
            "text/plain": [
              "<matplotlib.figure.Figure at 0x7feefd14b978>"
            ]
          },
          "metadata": {},
          "output_type": "display_data"
        }
      ],
      "source": [
        "plt.figure()\n",
        "plt.bar(generic, mean, yerr=yerr, color='rgby')\n",
        "plt.axhline(y=y, color = 'black', alpha=.5)\n",
        "plt.text(3.65, y, 'y=%d' %y)\n",
        "plt.xticks(generic, x)\n",
        "plt.xlabel('Year')\n",
        "plt.ylabel('Mean Votes')\n",
        "plt.title('Average Votes per Year')\n",
        "plt.show()"
      ]
    },
    {
      "cell_type": "markdown",
      "metadata": {
        "id": "SE34PDWLgekj"
      },
      "source": [
        "Harder Way"
      ]
    },
    {
      "cell_type": "code",
      "execution_count": null,
      "metadata": {
        "id": "SkdQPwLggekk",
        "outputId": "7823bde1-f62d-4a0c-8bd8-ccb622f00237"
      },
      "outputs": [
        {
          "data": {
            "image/png": "[encoded data removed]",
            "text/plain": [
              "<matplotlib.figure.Figure at 0x7feef58b09b0>"
            ]
          },
          "metadata": {},
          "output_type": "display_data"
        }
      ],
      "source": [
        "#normalized the curve and used a colormap for the data.\n",
        "from matplotlib.colors import Normalize\n",
        "from matplotlib.cm import get_cmap\n",
        "\n",
        "norm = Normalize(vmin=-1.96, vmax=1.96)\n",
        "#flag,prism,seismic,\n",
        "cmap = get_cmap('flag')\n",
        "df_c = pd.DataFrame(index = [0,1,2,3], columns = ['Value', 'Color'])\n",
        "\n",
        "for i in range(0,4):\n",
        "    df_c['Value'][i] = norm((mean[i]-y)/std[i])\n",
        "\n",
        "df_c['Color'] = [cmap(x) for x in df_c['Value']]\n",
        "\n",
        "plt.figure(figsize=(10,5))\n",
        "plt.bar(generic, mean, yerr=yerr, color=df_c['Color'])\n",
        "plt.axhline(y=y, color = 'black', alpha=.5)\n",
        "\n",
        "plt.text(3.65, y, 'y=%d' %y)\n",
        "plt.xticks(generic, x)\n",
        "plt.xlabel('Year')\n",
        "plt.ylabel('Mean Votes')\n",
        "plt.title('Average Votes per Year')\n",
        "plt.show()"
      ]
    },
    {
      "cell_type": "markdown",
      "metadata": {
        "id": "KIbLyd0Vgekk"
      },
      "source": [
        "Understanding Error Bars\n",
        "\n",
        "A common error that learners run into with the week 3 assignment is looking at the error bars of the data rather than the error bars of the means of the data. These are very different, as the standard deviation of the means involves taking the square root of the number of samples.\n",
        "\n",
        "This reading is intended to clarify the process required for assignment 3, with the demonstration based on the 1992 portion of the following data; we will create 1000 samples with a set random seed for reproducibility.   "
      ]
    },
    {
      "cell_type": "code",
      "execution_count": null,
      "metadata": {
        "id": "902xjvyQgekk",
        "outputId": "07ea3e85-576c-452a-b41d-d3983eab46b6"
      },
      "outputs": [
        {
          "data": {
            "text/html": [
              "<div>\n",
              "<table border=\"1\" class=\"dataframe\">\n",
              "  <thead>\n",
              "    <tr style=\"text-align: right;\">\n",
              "      <th></th>\n",
              "      <th>means</th>\n",
              "    </tr>\n",
              "  </thead>\n",
              "  <tbody>\n",
              "    <tr>\n",
              "      <th>0</th>\n",
              "      <td>33312.107476</td>\n",
              "    </tr>\n",
              "    <tr>\n",
              "      <th>1</th>\n",
              "      <td>29723.719082</td>\n",
              "    </tr>\n",
              "    <tr>\n",
              "      <th>2</th>\n",
              "      <td>26276.149916</td>\n",
              "    </tr>\n",
              "    <tr>\n",
              "      <th>3</th>\n",
              "      <td>31267.288484</td>\n",
              "    </tr>\n",
              "    <tr>\n",
              "      <th>4</th>\n",
              "      <td>31121.673831</td>\n",
              "    </tr>\n",
              "  </tbody>\n",
              "</table>\n",
              "</div>"
            ],
            "text/plain": [
              "          means\n",
              "0  33312.107476\n",
              "1  29723.719082\n",
              "2  26276.149916\n",
              "3  31267.288484\n",
              "4  31121.673831"
            ]
          },
          "execution_count": 21,
          "metadata": {},
          "output_type": "execute_result"
        }
      ],
      "source": [
        "# Let's do the random sampling 1000 times for year 1992\n",
        "np.random.seed(12345)\n",
        "df_means = pd.DataFrame({'means':[np.random.normal(32000,200000,3650).mean() for i in range(1000)]})\n",
        "df_means.head()"
      ]
    },
    {
      "cell_type": "code",
      "execution_count": null,
      "metadata": {
        "id": "0SBIm0U3gekl",
        "outputId": "ed1e0b51-4922-43b9-b0ee-052bd16abcd0"
      },
      "outputs": [
        {
          "data": {
            "text/plain": [
              "means    3414.816232\n",
              "dtype: float64"
            ]
          },
          "execution_count": 22,
          "metadata": {},
          "output_type": "execute_result"
        }
      ],
      "source": [
        "#Using the 1000 samples of means, we will now compute the standard deviation for 1992\n",
        "df_means.std(axis=0)"
      ]
    },
    {
      "cell_type": "markdown",
      "metadata": {
        "id": "Yr__JyyCgekl"
      },
      "source": [
        "This standard deviation is that of the means (also known as the standard error), and is the standard deviation used for the error bars. Note that this is not the standard deviation of the data."
      ]
    },
    {
      "cell_type": "code",
      "execution_count": null,
      "metadata": {
        "id": "fY4zPks5gekl",
        "outputId": "b80767e4-7fc5-4219-f90f-77cb47d17f05"
      },
      "outputs": [
        {
          "data": {
            "text/plain": [
              "3310.4235544094718"
            ]
          },
          "execution_count": 28,
          "metadata": {},
          "output_type": "execute_result"
        }
      ],
      "source": [
        "#Using the above formula, we can calculate the standard error as follows:\n",
        "\n",
        "# data standard deviation: 200000\n",
        "# sample size: 3650\n",
        "200000 / math.sqrt(3650)"
      ]
    },
    {
      "cell_type": "markdown",
      "metadata": {
        "id": "LVKVlUa9gekm"
      },
      "source": [
        "Standard error of mean versus standard deviation\n",
        "In scientific and technical literature, experimental data are often summarized either using the mean and standard deviation of the sample data or the mean with the standard error. This often leads to confusion about their interchangeability. However, the mean and standard deviation are descriptive statistics, whereas the standard error of the mean is descriptive of the random sampling process. The standard deviation of the sample data is a description of the variation in measurements, while the standard error of the mean is a probabilistic statement about how the sample size will provide a better bound on estimates of the population mean, in light of the central limit theorem.[7]\n",
        "\n",
        "Put simply, the standard error of the sample mean is an estimate of how far the sample mean is likely to be from the population mean, whereas the standard deviation of the sample is the degree to which individuals within the sample differ from the sample mean.[8] If the population standard deviation is finite, the standard error of the mean of the sample will tend to zero with increasing sample size, because the estimate of the population mean will improve, while the standard deviation of the sample will tend to approximate the population standard deviation as the sample size increases."
      ]
    }
  ],
  "metadata": {
    "kernelspec": {
      "display_name": "Python 3",
      "language": "python",
      "name": "python3"
    },
    "language_info": {
      "codemirror_mode": {
        "name": "ipython",
        "version": 3
      },
      "file_extension": ".py",
      "mimetype": "text/x-python",
      "name": "python",
      "nbconvert_exporter": "python",
      "pygments_lexer": "ipython3",
      "version": "3.6.2"
    },
    "colab": {
      "provenance": [],
      "include_colab_link": true
    }
  },
  "nbformat": 4,
  "nbformat_minor": 0
}